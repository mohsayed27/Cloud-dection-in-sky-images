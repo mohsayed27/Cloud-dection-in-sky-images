{
 "cells": [
  {
   "cell_type": "code",
   "execution_count": 1,
   "metadata": {},
   "outputs": [],
   "source": [
    "import numpy as np\n",
    "import os\n",
    "import matplotlib.pyplot as plt\n",
    "from cloud_detection_v2 import *\n",
    "from sun_position_identification_v2 import *\n",
    "import cv2\n",
    "from matplotlib.animation import FuncAnimation\n",
    "from IPython.display import Video"
   ]
  },
  {
   "cell_type": "code",
   "execution_count": 2,
   "metadata": {},
   "outputs": [],
   "source": [
    "\n",
    "import random\n",
    "import time\n",
    "import os\n",
    "import h5py\n",
    "import math\n",
    "import numpy as np\n",
    "import os\n",
    "from PIL import Image\n",
    "import matplotlib.pyplot as plt\n",
    "import datetime\n",
    "import itertools"
   ]
  },
  {
   "cell_type": "code",
   "execution_count": 3,
   "metadata": {},
   "outputs": [
    {
     "name": "stdout",
     "output_type": "stream",
     "text": [
      "data_folder: C:\\SIRTA-Dataset\\data\n",
      "train_data_path: C:\\SIRTA-Dataset\\data\\trainval-001.hdf5\n",
      "test_data_path: C:\\SIRTA-Dataset\\data\\test-001.hdf5\n",
      "output_folder: e:\\Cloud-dection-in-sky-images\\codes\\sirta\n"
     ]
    }
   ],
   "source": [
    "# define the data location and load data\n",
    "data_base = 'C:\\\\SIRTA-Dataset\\\\'\n",
    "images_base_path = os.path.join(data_base, 'images')\n",
    "irradiance_base_path = os.path.join(data_base, 'irradiance')\n",
    "data_folder = os.path.join(data_base, 'data')\n",
    "train_data_path = os.path.join(data_folder, 'trainval-001.hdf5')\n",
    "test_data_path = os.path.join(data_folder, 'test-001.hdf5')\n",
    "\n",
    "output_folder = os.path.join(os.getcwd(), 'sirta')\n",
    "\n",
    "if os.path.isdir(output_folder)==False:\n",
    "    os.makedirs(output_folder)\n",
    "\n",
    "    \n",
    "print(\"data_folder:\", data_folder)\n",
    "print(\"train_data_path:\", train_data_path)\n",
    "print(\"test_data_path:\", test_data_path)\n",
    "print(\"output_folder:\", output_folder)"
   ]
  },
  {
   "cell_type": "code",
   "execution_count": 4,
   "metadata": {},
   "outputs": [],
   "source": [
    "with h5py.File(test_data_path) as tstf:\n",
    "    test_images = tstf['images'][...]\n",
    "    test_timestamps = tstf['times'][...]\n",
    "    test_DNI = tstf['DNI'][...]\n",
    "    test_DHI = tstf['DHI'][...]"
   ]
  },
  {
   "cell_type": "code",
   "execution_count": 5,
   "metadata": {},
   "outputs": [],
   "source": [
    "test_dtm = np.array([datetime.datetime.fromtimestamp(ts) for ts in test_timestamps])"
   ]
  },
  {
   "cell_type": "code",
   "execution_count": 6,
   "metadata": {},
   "outputs": [],
   "source": [
    "# Get sample test image index\n",
    "index, = np.where(test_dtm == datetime.datetime.strptime('20230520081000', '%Y%m%d%H%M%S'))"
   ]
  },
  {
   "cell_type": "code",
   "execution_count": 7,
   "metadata": {},
   "outputs": [],
   "source": [
    "sample_image = test_images[index]\n",
    "sample_DNI = test_DNI[index]\n",
    "sample_DHI = test_DHI[index]\n"
   ]
  },
  {
   "cell_type": "code",
   "execution_count": null,
   "metadata": {},
   "outputs": [],
   "source": []
  }
 ],
 "metadata": {
  "kernelspec": {
   "display_name": "Python 3",
   "language": "python",
   "name": "python3"
  },
  "language_info": {
   "codemirror_mode": {
    "name": "ipython",
    "version": 3
   },
   "file_extension": ".py",
   "mimetype": "text/x-python",
   "name": "python",
   "nbconvert_exporter": "python",
   "pygments_lexer": "ipython3",
   "version": "3.11.6"
  }
 },
 "nbformat": 4,
 "nbformat_minor": 2
}
